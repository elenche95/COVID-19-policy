{
 "cells": [
  {
   "cell_type": "markdown",
   "metadata": {
    "slideshow": {
     "slide_type": "slide"
    }
   },
   "source": [
    "<h1>Covid Tweets EDA</h1>\n",
    "\n",
    "<b>The tasks for this EDA are to:</b>\n",
    "<ol>\n",
    "<li>Read in the tweets JSON and process</li>\n",
    "<li>Investigate word use in the text</li>\n",
    "<li>Look and word use and sentiment over time</li>\n",
    "<li>Investigate which fields to use for Geographical analysis later on</li>\n",
    "</ol>"
   ]
  },
  {
   "cell_type": "markdown",
   "metadata": {
    "slideshow": {
     "slide_type": "slide"
    }
   },
   "source": [
    "We read in the tweets from the twitter JSON and listen specifically for words related to COVID-19 in English using the listen_tweets.py script. This appends the tweets to the may_tweets.file. Then we flatten the JSON. \n",
    "\n",
    "We collected data from four days in May over roughly over a 7 minute window."
   ]
  },
  {
   "cell_type": "code",
   "execution_count": 1,
   "metadata": {
    "slideshow": {
     "slide_type": "skip"
    }
   },
   "outputs": [
    {
     "data": {
      "text/plain": [
       "'\\nimport json\\n# String of path to file: tweets_data_path\\ntweets_data_path = \\'may_tweets.txt\\'\\n\\n# Initialize empty list to store tweets: tweets_data\\ntweets_data = []\\n\\n# Open connection to file\\ntweets_file = open(tweets_data_path, \"r\")\\n\\n# Read in tweets and store in list: tweets_data\\nfor line in tweets_file:\\n    try:\\n        tweet = json.loads(line)\\n           # flatten the json so we can easily access the location of the user as well as other text elements \\n        tweet[\\'determined_location\\']= tweet[\\'user\\'][\\'location\\']\\n        # extracting the retweeted text\\n        if tweet[\\'retweeted\\']==True:\\n            if tweet[\\'retweeted_status\\'][\\'truncated\\']==True:\\n                tweet[\\'retweeted_status-text\\']=tweet[\\'retweeted_status\\'][\\'extended_tweet\\'][\\'full_text\\']\\n            else:\\n                tweet[\\'retweeted_status-text\\']=tweet[\\'retweeted_status\\'][\\'text\\']\\n        else:\\n            tweet[\\'retweeted_status-text\\']=\\'\\'\\n        # extracting the quoted tweet\\n        if tweet[\\'is_quote_status\\']==True:\\n            if tweet[\\'quoted_status\\'][\\'truncated\\']==True:\\n                tweet[\\'quoted_status-text\\']=tweet[\\'quoted_status\\'][\\'extended_tweet\\'][\\'full_text\\']\\n            else:\\n                tweet[\\'quoted_status-text\\']=tweet[\\'quoted_status\\'][\\'text\\']\\n        else:\\n            tweet[\\'quoted_status-text\\']= \\'\\'\\n        # extracting the full tweet if truncated --> not correct\\n        if tweet[\\'truncated\\']==True:\\n            tweet[\\'text\\'] = tweet[\\'extended_tweet\\'][\\'full_text\\']\\n\\n        tweet[\\'all_text\\']=tweet[\\'text\\']+tweet[\\'retweeted_status-text\\']+ tweet[\\'quoted_status-text\\']\\n        tweets_data.append(tweet)\\n    except:\\n        continue\\n\\n# Close connection to file\\ntweets_file.close()\\n\\n# Print the keys of the first tweet dict\\nprint(tweets_data[0].keys())\\n'"
      ]
     },
     "execution_count": 1,
     "metadata": {},
     "output_type": "execute_result"
    }
   ],
   "source": [
    "'''\n",
    "import json\n",
    "# String of path to file: tweets_data_path\n",
    "tweets_data_path = 'may_tweets.txt'\n",
    "\n",
    "# Initialize empty list to store tweets: tweets_data\n",
    "tweets_data = []\n",
    "\n",
    "# Open connection to file\n",
    "tweets_file = open(tweets_data_path, \"r\")\n",
    "\n",
    "# Read in tweets and store in list: tweets_data\n",
    "for line in tweets_file:\n",
    "    try:\n",
    "        tweet = json.loads(line)\n",
    "           # flatten the json so we can easily access the location of the user as well as other text elements \n",
    "        tweet['determined_location']= tweet['user']['location']\n",
    "        # extracting the retweeted text\n",
    "        if tweet['retweeted']==True:\n",
    "            if tweet['retweeted_status']['truncated']==True:\n",
    "                tweet['retweeted_status-text']=tweet['retweeted_status']['extended_tweet']['full_text']\n",
    "            else:\n",
    "                tweet['retweeted_status-text']=tweet['retweeted_status']['text']\n",
    "        else:\n",
    "            tweet['retweeted_status-text']=''\n",
    "        # extracting the quoted tweet\n",
    "        if tweet['is_quote_status']==True:\n",
    "            if tweet['quoted_status']['truncated']==True:\n",
    "                tweet['quoted_status-text']=tweet['quoted_status']['extended_tweet']['full_text']\n",
    "            else:\n",
    "                tweet['quoted_status-text']=tweet['quoted_status']['text']\n",
    "        else:\n",
    "            tweet['quoted_status-text']= ''\n",
    "        # extracting the full tweet if truncated --> not correct\n",
    "        if tweet['truncated']==True:\n",
    "            tweet['text'] = tweet['extended_tweet']['full_text']\n",
    "\n",
    "        tweet['all_text']=tweet['text']+tweet['retweeted_status-text']+ tweet['quoted_status-text']\n",
    "        tweets_data.append(tweet)\n",
    "    except:\n",
    "        continue\n",
    "\n",
    "# Close connection to file\n",
    "tweets_file.close()\n",
    "\n",
    "# Print the keys of the first tweet dict\n",
    "print(tweets_data[0].keys())\n",
    "'''"
   ]
  },
  {
   "cell_type": "code",
   "execution_count": 2,
   "metadata": {
    "slideshow": {
     "slide_type": "slide"
    }
   },
   "outputs": [
    {
     "data": {
      "text/html": [
       "<div>\n",
       "<style scoped>\n",
       "    .dataframe tbody tr th:only-of-type {\n",
       "        vertical-align: middle;\n",
       "    }\n",
       "\n",
       "    .dataframe tbody tr th {\n",
       "        vertical-align: top;\n",
       "    }\n",
       "\n",
       "    .dataframe thead th {\n",
       "        text-align: right;\n",
       "    }\n",
       "</style>\n",
       "<table border=\"1\" class=\"dataframe\">\n",
       "  <thead>\n",
       "    <tr style=\"text-align: right;\">\n",
       "      <th></th>\n",
       "      <th>created_at</th>\n",
       "      <th>text</th>\n",
       "      <th>lang</th>\n",
       "      <th>quoted_status-text</th>\n",
       "      <th>retweeted_status-text</th>\n",
       "      <th>all_text</th>\n",
       "      <th>determined_location</th>\n",
       "    </tr>\n",
       "  </thead>\n",
       "  <tbody>\n",
       "    <tr>\n",
       "      <th>0</th>\n",
       "      <td>Tue May 05 11:14:28 +0000 2020</td>\n",
       "      <td>RT @ASlavitt: BREAKING: The organization Trump...</td>\n",
       "      <td>en</td>\n",
       "      <td>NaN</td>\n",
       "      <td>NaN</td>\n",
       "      <td>RT @ASlavitt: BREAKING: The organization Trump...</td>\n",
       "      <td>Cocoa, Florida</td>\n",
       "    </tr>\n",
       "    <tr>\n",
       "      <th>1</th>\n",
       "      <td>Tue May 05 11:14:29 +0000 2020</td>\n",
       "      <td>RT @Therinesky: 11,000 ABS-CBN employees are b...</td>\n",
       "      <td>en</td>\n",
       "      <td>NaN</td>\n",
       "      <td>NaN</td>\n",
       "      <td>RT @Therinesky: 11,000 ABS-CBN employees are b...</td>\n",
       "      <td>Manila</td>\n",
       "    </tr>\n",
       "    <tr>\n",
       "      <th>2</th>\n",
       "      <td>Tue May 05 11:14:29 +0000 2020</td>\n",
       "      <td>RT @MidwivesRCM: Midwives &amp;amp;  UK maternity ...</td>\n",
       "      <td>en</td>\n",
       "      <td>NaN</td>\n",
       "      <td>NaN</td>\n",
       "      <td>RT @MidwivesRCM: Midwives &amp;amp;  UK maternity ...</td>\n",
       "      <td>Leeds, England</td>\n",
       "    </tr>\n",
       "    <tr>\n",
       "      <th>3</th>\n",
       "      <td>Tue May 05 11:14:29 +0000 2020</td>\n",
       "      <td>A Storm Is Brewing\\n\\n#QAnon #WWG1WGA #TheGrea...</td>\n",
       "      <td>en</td>\n",
       "      <td>NaN</td>\n",
       "      <td>NaN</td>\n",
       "      <td>A Storm Is Brewing\\n\\n#QAnon #WWG1WGA #TheGrea...</td>\n",
       "      <td>Zachary, LA</td>\n",
       "    </tr>\n",
       "    <tr>\n",
       "      <th>4</th>\n",
       "      <td>Tue May 05 11:14:29 +0000 2020</td>\n",
       "      <td>RT @gtconway3d: I guess we know what keeps the...</td>\n",
       "      <td>en</td>\n",
       "      <td>A group of RINO Republicans who failed badly 1...</td>\n",
       "      <td>NaN</td>\n",
       "      <td>RT @gtconway3d: I guess we know what keeps the...</td>\n",
       "      <td>Pittsburgh, PA</td>\n",
       "    </tr>\n",
       "  </tbody>\n",
       "</table>\n",
       "</div>"
      ],
      "text/plain": [
       "                       created_at  \\\n",
       "0  Tue May 05 11:14:28 +0000 2020   \n",
       "1  Tue May 05 11:14:29 +0000 2020   \n",
       "2  Tue May 05 11:14:29 +0000 2020   \n",
       "3  Tue May 05 11:14:29 +0000 2020   \n",
       "4  Tue May 05 11:14:29 +0000 2020   \n",
       "\n",
       "                                                text lang  \\\n",
       "0  RT @ASlavitt: BREAKING: The organization Trump...   en   \n",
       "1  RT @Therinesky: 11,000 ABS-CBN employees are b...   en   \n",
       "2  RT @MidwivesRCM: Midwives &amp;  UK maternity ...   en   \n",
       "3  A Storm Is Brewing\\n\\n#QAnon #WWG1WGA #TheGrea...   en   \n",
       "4  RT @gtconway3d: I guess we know what keeps the...   en   \n",
       "\n",
       "                                  quoted_status-text  retweeted_status-text  \\\n",
       "0                                                NaN                    NaN   \n",
       "1                                                NaN                    NaN   \n",
       "2                                                NaN                    NaN   \n",
       "3                                                NaN                    NaN   \n",
       "4  A group of RINO Republicans who failed badly 1...                    NaN   \n",
       "\n",
       "                                            all_text determined_location  \n",
       "0  RT @ASlavitt: BREAKING: The organization Trump...      Cocoa, Florida  \n",
       "1  RT @Therinesky: 11,000 ABS-CBN employees are b...              Manila  \n",
       "2  RT @MidwivesRCM: Midwives &amp;  UK maternity ...      Leeds, England  \n",
       "3  A Storm Is Brewing\\n\\n#QAnon #WWG1WGA #TheGrea...         Zachary, LA  \n",
       "4  RT @gtconway3d: I guess we know what keeps the...      Pittsburgh, PA  "
      ]
     },
     "execution_count": 2,
     "metadata": {},
     "output_type": "execute_result"
    }
   ],
   "source": [
    "import pandas as pd\n",
    "df = pd.read_csv('tweets_procesed.csv' ,index_col=0)\n",
    "df.head()"
   ]
  },
  {
   "cell_type": "code",
   "execution_count": 3,
   "metadata": {
    "scrolled": true,
    "slideshow": {
     "slide_type": "skip"
    }
   },
   "outputs": [],
   "source": [
    "#df = pd.DataFrame(tweets_data, columns=['created_at','text', 'lang', 'quoted_status-text', 'retweeted_status-text','all_text','determined_location'])\n",
    "#df.head()"
   ]
  },
  {
   "cell_type": "markdown",
   "metadata": {
    "slideshow": {
     "slide_type": "skip"
    }
   },
   "source": [
    "We make twitter data processed this way available for later use "
   ]
  },
  {
   "cell_type": "code",
   "execution_count": 4,
   "metadata": {
    "slideshow": {
     "slide_type": "skip"
    }
   },
   "outputs": [],
   "source": [
    "#df.to_csv('tweets_procesed.csv')"
   ]
  },
  {
   "cell_type": "markdown",
   "metadata": {
    "slideshow": {
     "slide_type": "slide"
    }
   },
   "source": [
    "We create two functions to find the presence of a word in the tweet"
   ]
  },
  {
   "cell_type": "code",
   "execution_count": 5,
   "metadata": {},
   "outputs": [
    {
     "name": "stdout",
     "output_type": "stream",
     "text": [
      "<class 'pandas.core.frame.DataFrame'>\n",
      "Int64Index: 40206 entries, 0 to 40205\n",
      "Data columns (total 7 columns):\n",
      " #   Column                 Non-Null Count  Dtype  \n",
      "---  ------                 --------------  -----  \n",
      " 0   created_at             40206 non-null  object \n",
      " 1   text                   40206 non-null  object \n",
      " 2   lang                   40206 non-null  object \n",
      " 3   quoted_status-text     8309 non-null   object \n",
      " 4   retweeted_status-text  0 non-null      float64\n",
      " 5   all_text               40206 non-null  object \n",
      " 6   determined_location    27824 non-null  object \n",
      "dtypes: float64(1), object(6)\n",
      "memory usage: 2.5+ MB\n"
     ]
    }
   ],
   "source": [
    "df.head()\n",
    "df.info()"
   ]
  },
  {
   "cell_type": "code",
   "execution_count": 6,
   "metadata": {
    "slideshow": {
     "slide_type": "fragment"
    }
   },
   "outputs": [],
   "source": [
    "import numpy as np\n",
    "text_columns = ['text', 'quoted_status-text', 'retweeted_status-text']\n",
    "in_english = df['lang']=='en'\n",
    "\n",
    "# function to check the presence of a word\n",
    "def check_word(word):\n",
    "    col = ['text', 'quoted_status-text', 'retweeted_status-text']\n",
    "    in_english = df['lang']=='en'\n",
    "    word_bol = df[col[0]].str.contains(word, case=False)\n",
    "    for i in range(1,3):\n",
    "        try:\n",
    "            word_bol |= df[col[i]].str.contains(word, case=False)\n",
    "        except:\n",
    "            continue\n",
    "    word_bol &= in_english\n",
    "    word_percent = (np.sum(word_bol)/df[df['lang']=='en'].shape[0])\n",
    "    return word_percent"
   ]
  },
  {
   "cell_type": "code",
   "execution_count": 7,
   "metadata": {
    "slideshow": {
     "slide_type": "skip"
    }
   },
   "outputs": [],
   "source": [
    "# needed to extract the word boolean series to later count up \n",
    "def check_word_bol(word):\n",
    "    col = ['text', 'quoted_status-text', 'retweeted_status-text']\n",
    "    in_english = df['lang']=='en'\n",
    "    word_bol = df[col[0]].str.contains(word, case=False)\n",
    "    for i in range(1,3):\n",
    "        try: \n",
    "            word_bol |= df[col[i]].str.contains(word, case=False)\n",
    "        except:\n",
    "            continue\n",
    "    word_bol &= in_english\n",
    "    word_percent = (np.sum(word_bol)/df[df['lang']=='en'].shape[0])*100\n",
    "    return word_bol"
   ]
  },
  {
   "cell_type": "code",
   "execution_count": 8,
   "metadata": {
    "slideshow": {
     "slide_type": "slide"
    }
   },
   "outputs": [
    {
     "data": {
      "image/png": "[encoded data removed]",
      "text/plain": [
       "<Figure size 432x288 with 1 Axes>"
      ]
     },
     "metadata": {
      "needs_background": "light"
     },
     "output_type": "display_data"
    }
   ],
   "source": [
    "words = ['recover', 'deaths', 'lockdown', 'PPE']\n",
    "\n",
    "words_use_frac = list((map(check_word, words)))\n",
    "\n",
    "import matplotlib.pyplot as plt\n",
    "import seaborn as sns\n",
    "\n",
    "sns.barplot(words,words_use_frac)\n",
    "plt.ylabel('Fraction of times word is used')\n",
    "plt.xlabel('word')\n",
    "plt.show()\n"
   ]
  },
  {
   "cell_type": "markdown",
   "metadata": {},
   "source": [
    "Analysis of a word use over time, limiting the analysis over one day"
   ]
  },
  {
   "cell_type": "code",
   "execution_count": 9,
   "metadata": {
    "slideshow": {
     "slide_type": "skip"
    }
   },
   "outputs": [
    {
     "name": "stdout",
     "output_type": "stream",
     "text": [
      "0   2020-05-05 11:14:28+00:00\n",
      "1   2020-05-05 11:14:29+00:00\n",
      "2   2020-05-05 11:14:29+00:00\n",
      "3   2020-05-05 11:14:29+00:00\n",
      "4   2020-05-05 11:14:29+00:00\n",
      "Name: created_at, dtype: datetime64[ns, UTC]\n"
     ]
    }
   ],
   "source": [
    "df.reset_index(inplace=True)\n",
    "df.columns\n",
    "df['created_at'] = pd.to_datetime(df['created_at'])\n",
    "print(df['created_at'].head())"
   ]
  },
  {
   "cell_type": "code",
   "execution_count": 10,
   "metadata": {},
   "outputs": [
    {
     "data": {
      "text/html": [
       "<div>\n",
       "<style scoped>\n",
       "    .dataframe tbody tr th:only-of-type {\n",
       "        vertical-align: middle;\n",
       "    }\n",
       "\n",
       "    .dataframe tbody tr th {\n",
       "        vertical-align: top;\n",
       "    }\n",
       "\n",
       "    .dataframe thead th {\n",
       "        text-align: right;\n",
       "    }\n",
       "</style>\n",
       "<table border=\"1\" class=\"dataframe\">\n",
       "  <thead>\n",
       "    <tr style=\"text-align: right;\">\n",
       "      <th></th>\n",
       "      <th>created_at</th>\n",
       "      <th>text</th>\n",
       "      <th>lang</th>\n",
       "      <th>quoted_status-text</th>\n",
       "      <th>retweeted_status-text</th>\n",
       "      <th>all_text</th>\n",
       "      <th>determined_location</th>\n",
       "      <th>deaths_mention</th>\n",
       "      <th>recovery_mention</th>\n",
       "    </tr>\n",
       "  </thead>\n",
       "  <tbody>\n",
       "    <tr>\n",
       "      <th>0</th>\n",
       "      <td>2020-05-05 11:14:28+00:00</td>\n",
       "      <td>RT @ASlavitt: BREAKING: The organization Trump...</td>\n",
       "      <td>en</td>\n",
       "      <td>NaN</td>\n",
       "      <td>NaN</td>\n",
       "      <td>RT @ASlavitt: BREAKING: The organization Trump...</td>\n",
       "      <td>Cocoa, Florida</td>\n",
       "      <td>True</td>\n",
       "      <td>False</td>\n",
       "    </tr>\n",
       "    <tr>\n",
       "      <th>1</th>\n",
       "      <td>2020-05-05 11:14:29+00:00</td>\n",
       "      <td>RT @Therinesky: 11,000 ABS-CBN employees are b...</td>\n",
       "      <td>en</td>\n",
       "      <td>NaN</td>\n",
       "      <td>NaN</td>\n",
       "      <td>RT @Therinesky: 11,000 ABS-CBN employees are b...</td>\n",
       "      <td>Manila</td>\n",
       "      <td>False</td>\n",
       "      <td>False</td>\n",
       "    </tr>\n",
       "    <tr>\n",
       "      <th>2</th>\n",
       "      <td>2020-05-05 11:14:29+00:00</td>\n",
       "      <td>RT @MidwivesRCM: Midwives &amp;amp;  UK maternity ...</td>\n",
       "      <td>en</td>\n",
       "      <td>NaN</td>\n",
       "      <td>NaN</td>\n",
       "      <td>RT @MidwivesRCM: Midwives &amp;amp;  UK maternity ...</td>\n",
       "      <td>Leeds, England</td>\n",
       "      <td>False</td>\n",
       "      <td>False</td>\n",
       "    </tr>\n",
       "    <tr>\n",
       "      <th>3</th>\n",
       "      <td>2020-05-05 11:14:29+00:00</td>\n",
       "      <td>A Storm Is Brewing\\n\\n#QAnon #WWG1WGA #TheGrea...</td>\n",
       "      <td>en</td>\n",
       "      <td>NaN</td>\n",
       "      <td>NaN</td>\n",
       "      <td>A Storm Is Brewing\\n\\n#QAnon #WWG1WGA #TheGrea...</td>\n",
       "      <td>Zachary, LA</td>\n",
       "      <td>False</td>\n",
       "      <td>False</td>\n",
       "    </tr>\n",
       "    <tr>\n",
       "      <th>4</th>\n",
       "      <td>2020-05-05 11:14:29+00:00</td>\n",
       "      <td>RT @gtconway3d: I guess we know what keeps the...</td>\n",
       "      <td>en</td>\n",
       "      <td>A group of RINO Republicans who failed badly 1...</td>\n",
       "      <td>NaN</td>\n",
       "      <td>RT @gtconway3d: I guess we know what keeps the...</td>\n",
       "      <td>Pittsburgh, PA</td>\n",
       "      <td>False</td>\n",
       "      <td>False</td>\n",
       "    </tr>\n",
       "  </tbody>\n",
       "</table>\n",
       "</div>"
      ],
      "text/plain": [
       "                 created_at  \\\n",
       "0 2020-05-05 11:14:28+00:00   \n",
       "1 2020-05-05 11:14:29+00:00   \n",
       "2 2020-05-05 11:14:29+00:00   \n",
       "3 2020-05-05 11:14:29+00:00   \n",
       "4 2020-05-05 11:14:29+00:00   \n",
       "\n",
       "                                                text lang  \\\n",
       "0  RT @ASlavitt: BREAKING: The organization Trump...   en   \n",
       "1  RT @Therinesky: 11,000 ABS-CBN employees are b...   en   \n",
       "2  RT @MidwivesRCM: Midwives &amp;  UK maternity ...   en   \n",
       "3  A Storm Is Brewing\\n\\n#QAnon #WWG1WGA #TheGrea...   en   \n",
       "4  RT @gtconway3d: I guess we know what keeps the...   en   \n",
       "\n",
       "                                  quoted_status-text  retweeted_status-text  \\\n",
       "0                                                NaN                    NaN   \n",
       "1                                                NaN                    NaN   \n",
       "2                                                NaN                    NaN   \n",
       "3                                                NaN                    NaN   \n",
       "4  A group of RINO Republicans who failed badly 1...                    NaN   \n",
       "\n",
       "                                            all_text determined_location  \\\n",
       "0  RT @ASlavitt: BREAKING: The organization Trump...      Cocoa, Florida   \n",
       "1  RT @Therinesky: 11,000 ABS-CBN employees are b...              Manila   \n",
       "2  RT @MidwivesRCM: Midwives &amp;  UK maternity ...      Leeds, England   \n",
       "3  A Storm Is Brewing\\n\\n#QAnon #WWG1WGA #TheGrea...         Zachary, LA   \n",
       "4  RT @gtconway3d: I guess we know what keeps the...      Pittsburgh, PA   \n",
       "\n",
       "   deaths_mention  recovery_mention  \n",
       "0            True             False  \n",
       "1           False             False  \n",
       "2           False             False  \n",
       "3           False             False  \n",
       "4           False             False  "
      ]
     },
     "execution_count": 10,
     "metadata": {},
     "output_type": "execute_result"
    }
   ],
   "source": [
    "#Taking only tweets from May 6th\n",
    "#df = df[df.index.day==5]\n",
    "#df.to_csv('may_5_tweets.csv')\n",
    "df = pd.read_csv('may_5_tweets.csv')\n",
    "df['created_at'] = pd.to_datetime(df['created_at'])\n",
    "df.head()"
   ]
  },
  {
   "cell_type": "code",
   "execution_count": 11,
   "metadata": {
    "slideshow": {
     "slide_type": "skip"
    }
   },
   "outputs": [],
   "source": [
    "df.set_index('created_at', inplace=True)"
   ]
  },
  {
   "cell_type": "code",
   "execution_count": 12,
   "metadata": {},
   "outputs": [
    {
     "name": "stdout",
     "output_type": "stream",
     "text": [
      "2020-05-05 11:21:24+00:00\n",
      "2020-05-05 11:14:28+00:00\n"
     ]
    }
   ],
   "source": [
    "print(df.index.max())\n",
    "print(df.index.min())\n",
    "# we have only 7 minutes worth of data"
   ]
  },
  {
   "cell_type": "markdown",
   "metadata": {
    "slideshow": {
     "slide_type": "slide"
    }
   },
   "source": [
    "Investigating the use of the word \"recovery\" versus \"death\" over time"
   ]
  },
  {
   "cell_type": "code",
   "execution_count": 14,
   "metadata": {
    "scrolled": true,
    "slideshow": {
     "slide_type": "fragment"
    }
   },
   "outputs": [
    {
     "data": {
      "image/png": "[encoded data removed]",
      "text/plain": [
       "<Figure size 432x288 with 1 Axes>"
      ]
     },
     "metadata": {
      "needs_background": "light"
     },
     "output_type": "display_data"
    }
   ],
   "source": [
    "df['deaths_mention']=check_word_bol('death')\n",
    "df['recovery_mention']= check_word_bol('recovery')\n",
    "\n",
    "mean_death = df['deaths_mention'].resample('1 min').mean()\n",
    "mean_recover = df['recovery_mention'].resample('1 min').mean()\n",
    "\n",
    "plt.scatter(mean_death.index.minute, mean_death)\n",
    "plt.scatter(mean_recover.index.minute, mean_recover)\n",
    "\n",
    "plt.xlabel('Minute')\n",
    "plt.ylabel('Frequency')\n",
    "plt.title('Mentions per Minute')\n",
    "plt.legend(('deaths', 'recovery'))\n",
    "plt.show()\n"
   ]
  },
  {
   "cell_type": "code",
   "execution_count": 15,
   "metadata": {
    "slideshow": {
     "slide_type": "slide"
    }
   },
   "outputs": [
    {
     "name": "stdout",
     "output_type": "stream",
     "text": [
      "[\"RT @Z_Everson: President's hotel eligible for $37,000 COVID-19 relief grant from D.C.'s taxpayer-funded convention authority\\n\\nvia @1100penn…\"\n",
      " 'en' nan nan\n",
      " \"RT @Z_Everson: President's hotel eligible for $37,000 COVID-19 relief grant from D.C.'s taxpayer-funded convention authority\\n\\nvia @1100penn…\"\n",
      " 'DC' False False]\n",
      "[\"RT @galendruke: Lots to talk about on today's podcast:\\n\\n-Where we are in the COVID-19 crisis\\n-How Dems are reacting to the Biden assault al…\"\n",
      " 'en' nan nan\n",
      " \"RT @galendruke: Lots to talk about on today's podcast:\\n\\n-Where we are in the COVID-19 crisis\\n-How Dems are reacting to the Biden assault al…\"\n",
      " 'United States' False False]\n"
     ]
    }
   ],
   "source": [
    "from nltk.sentiment.vader import SentimentIntensityAnalyzer\n",
    "\n",
    "sid  = SentimentIntensityAnalyzer()\n",
    "sentiment_score_text = df['text'].apply(sid.polarity_scores)  \n",
    "\n",
    "#we need this to extract only the compound sentiment score, which goes from -1 to 1 and tells us how negative or positive the tweet is \n",
    "sentiment = sentiment_score_text.apply(lambda x: x['compound'])\n",
    "print(df[sentiment > 0.7].values[0])\n",
    "# printing a positive tweet\n",
    "print(df[sentiment < -0.7].values[0])\n",
    "# printing a negative tweet"
   ]
  },
  {
   "cell_type": "markdown",
   "metadata": {
    "slideshow": {
     "slide_type": "slide"
    }
   },
   "source": [
    "Looking at sentiment over time for the 6th of May"
   ]
  },
  {
   "cell_type": "code",
   "execution_count": 16,
   "metadata": {
    "slideshow": {
     "slide_type": "fragment"
    }
   },
   "outputs": [
    {
     "data": {
      "image/png": "[encoded data removed]",
      "text/plain": [
       "<Figure size 432x288 with 1 Axes>"
      ]
     },
     "metadata": {
      "needs_background": "light"
     },
     "output_type": "display_data"
    }
   ],
   "source": [
    "sentiment_covid = sentiment.resample('1 min').mean()\n",
    "plt.scatter(sentiment_covid.index.minute, sentiment_covid, )\n",
    "\n",
    "plt.xlabel('Time (minute)')\n",
    "plt.ylabel('Sentiment')\n",
    "plt.title('Sentiment with time for COVID tweets')\n",
    "plt.show()\n"
   ]
  },
  {
   "cell_type": "markdown",
   "metadata": {},
   "source": [
    "We could extend this analysis over several days or measure sentiment as a policy change is put into place"
   ]
  },
  {
   "cell_type": "markdown",
   "metadata": {
    "slideshow": {
     "slide_type": "slide"
    }
   },
   "source": [
    "The percentage of real user location data from places is too low to be worth using for later analysis, so we will use the determined_location instead for geographical analysis"
   ]
  },
  {
   "cell_type": "code",
   "execution_count": 17,
   "metadata": {
    "slideshow": {
     "slide_type": "skip"
    }
   },
   "outputs": [
    {
     "data": {
      "text/plain": [
       "'\\nplaces = []\\nfor tweet in tweets_data:\\n    if tweet[\\'place\\'] == None:\\n        continue\\n    else:\\n        places.append(tweet[\\'place\\'][\\'name\\'])\\nprint(\"The percentage of tweets from the sample with location coordinates enabled is {} percent\".format(len(places)/len(tweets_data)*100))\\n'"
      ]
     },
     "execution_count": 17,
     "metadata": {},
     "output_type": "execute_result"
    }
   ],
   "source": [
    "'''\n",
    "places = []\n",
    "for tweet in tweets_data:\n",
    "    if tweet['place'] == None:\n",
    "        continue\n",
    "    else:\n",
    "        places.append(tweet['place']['name'])\n",
    "print(\"The percentage of tweets from the sample with location coordinates enabled is {} percent\".format(len(places)/len(tweets_data)*100))\n",
    "'''"
   ]
  },
  {
   "cell_type": "code",
   "execution_count": 18,
   "metadata": {
    "slideshow": {
     "slide_type": "skip"
    }
   },
   "outputs": [
    {
     "data": {
      "text/plain": [
       "'\\nuser_location = []\\n\\nfor tweet in tweets_data:\\n    if tweet[\\'determined_location\\']!=None:\\n        user_location.append(tweet[\\'determined_location\\'])\\n    else:\\n        continue\\n\\nprint(\"The percentage of tweets from the sample with location coordinates enabled is {} percent\".format(len(user_location)/len(user_location)*100))\\n#many of these locations are non sensical but we can try to extract meaning\\n'"
      ]
     },
     "execution_count": 18,
     "metadata": {},
     "output_type": "execute_result"
    }
   ],
   "source": [
    "'''\n",
    "user_location = []\n",
    "\n",
    "for tweet in tweets_data:\n",
    "    if tweet['determined_location']!=None:\n",
    "        user_location.append(tweet['determined_location'])\n",
    "    else:\n",
    "        continue\n",
    "\n",
    "print(\"The percentage of tweets from the sample with location coordinates enabled is {} percent\".format(len(user_location)/len(user_location)*100))\n",
    "#many of these locations are non sensical but we can try to extract meaning\n",
    "'''"
   ]
  }
 ],
 "metadata": {
  "celltoolbar": "Slideshow",
  "kernelspec": {
   "display_name": "Python 3",
   "language": "python",
   "name": "python3"
  },
  "language_info": {
   "codemirror_mode": {
    "name": "ipython",
    "version": 3
   },
   "file_extension": ".py",
   "mimetype": "text/x-python",
   "name": "python",
   "nbconvert_exporter": "python",
   "pygments_lexer": "ipython3",
   "version": "3.7.7"
  }
 },
 "nbformat": 4,
 "nbformat_minor": 4
}
